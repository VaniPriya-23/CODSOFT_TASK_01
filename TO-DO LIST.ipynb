{
 "cells": [
  {
   "cell_type": "code",
   "execution_count": 1,
   "id": "44ecbec2",
   "metadata": {},
   "outputs": [],
   "source": [
    "import os"
   ]
  },
  {
   "cell_type": "code",
   "execution_count": 2,
   "id": "95eda63d",
   "metadata": {},
   "outputs": [],
   "source": [
    "tasks=[]"
   ]
  },
  {
   "cell_type": "code",
   "execution_count": 3,
   "id": "8bb7e74c",
   "metadata": {},
   "outputs": [],
   "source": [
    "def clear_screen():\n",
    "    os.system('clear' if os.name=='posix' else 'cls')"
   ]
  },
  {
   "cell_type": "code",
   "execution_count": 4,
   "id": "89f0e05e",
   "metadata": {},
   "outputs": [],
   "source": [
    "def show_menu():\n",
    "    clear_screen()\n",
    "    print(\"To-Do List App\")\n",
    "    print(\"1.Add Tasks\")\n",
    "    print(\"2.View Tasks\")\n",
    "    print(\"3.Mark as completed\")\n",
    "    print(\"4.Delete task\")\n",
    "    print(\"5.Exit\")"
   ]
  },
  {
   "cell_type": "code",
   "execution_count": 5,
   "id": "5199b492",
   "metadata": {},
   "outputs": [],
   "source": [
    "def add_task():\n",
    "    task=input(\"Enter a new task: \")\n",
    "    tasks.append({\"task\":task,\"completed\":False})\n",
    "    input(\"Task added.Press enter to continue...\")"
   ]
  },
  {
   "cell_type": "code",
   "execution_count": 6,
   "id": "5aff0434",
   "metadata": {},
   "outputs": [],
   "source": [
    "def view_tasks():\n",
    "    clear_screen()\n",
    "    print(\"To-Do List:\")\n",
    "    for i,task in enumerate(tasks,start=1):\n",
    "        status=\"Done\" if task[\"completed\"] else \"Not done\"\n",
    "        print(f\"{i}.{task['task']}-Status:{status}\")\n",
    "    input(\"Press enter to continue...\")  "
   ]
  },
  {
   "cell_type": "code",
   "execution_count": 7,
   "id": "dbd2c4be",
   "metadata": {},
   "outputs": [],
   "source": [
    "def mark_task_completed():\n",
    "    view_tasks()\n",
    "    task_num=int(input(\"Enter the task number to mark as completed: \")) -1\n",
    "    if 0<=task_num<len(tasks):\n",
    "        tasks[task_num][\"completed\"]=True\n",
    "        input(\"Task marked as completed.Press enter to continue...\")\n",
    "    else:\n",
    "        input(\"Invalid task number.Press enter to continue...\")"
   ]
  },
  {
   "cell_type": "code",
   "execution_count": 8,
   "id": "2ffe3a97",
   "metadata": {},
   "outputs": [],
   "source": [
    "def delete_task():\n",
    "    view_tasks()\n",
    "    task_num = int(input(\"Enter the task number to delete: \")) - 1\n",
    "    if 0 <= task_num < len(tasks):\n",
    "        del tasks[task_num]\n",
    "        input(\"Task deleted. Press Enter to continue...\")\n",
    "    else:\n",
    "        input(\"Invalid task number. Press Enter to continue...\")"
   ]
  },
  {
   "cell_type": "code",
   "execution_count": null,
   "id": "d4270443",
   "metadata": {},
   "outputs": [
    {
     "name": "stdout",
     "output_type": "stream",
     "text": [
      "To-Do List App\n",
      "1.Add Tasks\n",
      "2.View Tasks\n",
      "3.Mark as completed\n",
      "4.Delete task\n",
      "5.Exit\n",
      "Enter your choice(1/2/3/4/5): 1\n",
      "Enter a new task: need to study Python\n",
      "Task added.Press enter to continue...\n",
      "To-Do List App\n",
      "1.Add Tasks\n",
      "2.View Tasks\n",
      "3.Mark as completed\n",
      "4.Delete task\n",
      "5.Exit\n",
      "Enter your choice(1/2/3/4/5): 2\n",
      "To-Do List:\n",
      "1.need to study Python-Status:Not done\n"
     ]
    }
   ],
   "source": [
    "while True:\n",
    "    show_menu()\n",
    "    choice=input(\"Enter your choice(1/2/3/4/5): \")\n",
    "    \n",
    "    if choice=='1':\n",
    "        add_task()\n",
    "    elif choice=='2':\n",
    "        view_tasks()\n",
    "    elif choice=='3':\n",
    "        mark_task_completed()\n",
    "    elif choice=='4':\n",
    "        delete_task()\n",
    "    elif choice=='5':\n",
    "        exit()\n",
    "        break\n",
    "    else:\n",
    "        print(\"Invalid choice.Press enter to continue...\")"
   ]
  },
  {
   "cell_type": "code",
   "execution_count": null,
   "id": "0565a114",
   "metadata": {},
   "outputs": [],
   "source": []
  }
 ],
 "metadata": {
  "kernelspec": {
   "display_name": "Python 3 (ipykernel)",
   "language": "python",
   "name": "python3"
  },
  "language_info": {
   "codemirror_mode": {
    "name": "ipython",
    "version": 3
   },
   "file_extension": ".py",
   "mimetype": "text/x-python",
   "name": "python",
   "nbconvert_exporter": "python",
   "pygments_lexer": "ipython3",
   "version": "3.10.5"
  }
 },
 "nbformat": 4,
 "nbformat_minor": 5
}
